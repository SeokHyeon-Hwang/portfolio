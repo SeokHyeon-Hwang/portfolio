{
 "cells": [
  {
   "cell_type": "markdown",
   "metadata": {},
   "source": [
    "# tensorflow-GPU 사용법"
   ]
  },
  {
   "cell_type": "markdown",
   "metadata": {},
   "source": [
    "### 아래 사이트를 참고하였습니다.\n",
    "\n",
    "https://www.pugetsystems.com/labs/hpc/The-Best-Way-to-Install-TensorFlow-with-GPU-Support-on-Windows-10-Without-Installing-CUDA-1187/"
   ]
  },
  {
   "cell_type": "markdown",
   "metadata": {},
   "source": [
    "![image](https://user-images.githubusercontent.com/42320146/54493844-c2a24280-4917-11e9-9dbe-ae0a5c46d338.png)\n"
   ]
  },
  {
   "cell_type": "code",
   "execution_count": 1,
   "metadata": {},
   "outputs": [],
   "source": [
    "import tensorflow as tf"
   ]
  },
  {
   "cell_type": "code",
   "execution_count": 2,
   "metadata": {},
   "outputs": [
    {
     "name": "stdout",
     "output_type": "stream",
     "text": [
      "b'hello, Tensorflow!'\n"
     ]
    }
   ],
   "source": [
    "hello = tf.constant('hello, Tensorflow!')\n",
    "sess= tf.Session()\n",
    "print(sess.run(hello))"
   ]
  },
  {
   "cell_type": "markdown",
   "metadata": {},
   "source": [
    "# keras-GPU 사용법"
   ]
  },
  {
   "cell_type": "markdown",
   "metadata": {},
   "source": [
    "![image](https://user-images.githubusercontent.com/42320146/54493954-b5d21e80-4918-11e9-82ef-f9c3d5f780f5.png)\n"
   ]
  },
  {
   "cell_type": "markdown",
   "metadata": {},
   "source": [
    "![image](https://user-images.githubusercontent.com/42320146/54493971-d39f8380-4918-11e9-908a-239a824a09d1.png)\n"
   ]
  },
  {
   "cell_type": "markdown",
   "metadata": {},
   "source": [
    "![image](https://user-images.githubusercontent.com/42320146/54493981-efa32500-4918-11e9-9de1-67cdea389272.png)\n"
   ]
  },
  {
   "cell_type": "markdown",
   "metadata": {},
   "source": [
    "![image](https://user-images.githubusercontent.com/42320146/54493992-03e72200-4919-11e9-839d-34b0efa6b045.png)\n"
   ]
  },
  {
   "cell_type": "markdown",
   "metadata": {},
   "source": [
    "![image](https://user-images.githubusercontent.com/42320146/54494003-195c4c00-4919-11e9-8360-48b570d6e79e.png)\n"
   ]
  },
  {
   "cell_type": "markdown",
   "metadata": {},
   "source": [
    "![image](https://user-images.githubusercontent.com/42320146/54494010-355fed80-4919-11e9-806f-dc3c96678722.png)\n"
   ]
  },
  {
   "cell_type": "code",
   "execution_count": 4,
   "metadata": {},
   "outputs": [
    {
     "name": "stderr",
     "output_type": "stream",
     "text": [
      "Using TensorFlow backend.\n"
     ]
    },
    {
     "name": "stdout",
     "output_type": "stream",
     "text": [
      "Downloading data from https://s3.amazonaws.com/img-datasets/mnist.npz\n",
      "11493376/11490434 [==============================] - 9s 1us/step\n"
     ]
    }
   ],
   "source": [
    "import numpy as np\n",
    "import time\n",
    "def nowtime(past):\n",
    "    now = time.time()\n",
    "    print(now)\n",
    "    print(\"period[second] : {}\".format(now - past) )\n",
    "    return now\n",
    "from keras.datasets import mnist\n",
    "\n",
    "((X_train, y_train), (X_test, y_test)) = mnist.load_data()"
   ]
  },
  {
   "cell_type": "code",
   "execution_count": 10,
   "metadata": {},
   "outputs": [],
   "source": [
    "def sigmoid(n):\n",
    "    return 1 / (1 + np.exp(-n))"
   ]
  },
  {
   "cell_type": "code",
   "execution_count": 5,
   "metadata": {},
   "outputs": [
    {
     "name": "stdout",
     "output_type": "stream",
     "text": [
      "(60000, 784) (10000, 784)\n"
     ]
    }
   ],
   "source": [
    "X_train = X_train.reshape(60000, 28 * 28)\n",
    "X_test = X_test.reshape(10000, 28 * 28)\n",
    "\n",
    "print(X_train.shape, X_test.shape)"
   ]
  },
  {
   "cell_type": "code",
   "execution_count": 6,
   "metadata": {},
   "outputs": [
    {
     "name": "stdout",
     "output_type": "stream",
     "text": [
      "[5 0 4 1 9]\n"
     ]
    },
    {
     "data": {
      "text/plain": [
       "array([[0., 0., 0., 0., 0., 1., 0., 0., 0., 0.],\n",
       "       [1., 0., 0., 0., 0., 0., 0., 0., 0., 0.],\n",
       "       [0., 0., 0., 0., 1., 0., 0., 0., 0., 0.],\n",
       "       [0., 1., 0., 0., 0., 0., 0., 0., 0., 0.],\n",
       "       [0., 0., 0., 0., 0., 0., 0., 0., 0., 1.]])"
      ]
     },
     "execution_count": 6,
     "metadata": {},
     "output_type": "execute_result"
    }
   ],
   "source": [
    "y_train_hot = np.eye(10)[y_train]\n",
    "\n",
    "print(y_train[0:5])\n",
    "y_train_hot[0:5]"
   ]
  },
  {
   "cell_type": "code",
   "execution_count": 7,
   "metadata": {},
   "outputs": [
    {
     "name": "stdout",
     "output_type": "stream",
     "text": [
      "[7 2 1 0 4]\n"
     ]
    },
    {
     "data": {
      "text/plain": [
       "array([[0., 0., 0., 0., 0., 0., 0., 1., 0., 0.],\n",
       "       [0., 0., 1., 0., 0., 0., 0., 0., 0., 0.],\n",
       "       [0., 1., 0., 0., 0., 0., 0., 0., 0., 0.],\n",
       "       [1., 0., 0., 0., 0., 0., 0., 0., 0., 0.],\n",
       "       [0., 0., 0., 0., 1., 0., 0., 0., 0., 0.]])"
      ]
     },
     "execution_count": 7,
     "metadata": {},
     "output_type": "execute_result"
    }
   ],
   "source": [
    "y_test_hot = np.eye(10)[y_test]\n",
    "\n",
    "print(y_test[0:5])\n",
    "y_test_hot[0:5]"
   ]
  },
  {
   "cell_type": "code",
   "execution_count": 11,
   "metadata": {},
   "outputs": [
    {
     "name": "stdout",
     "output_type": "stream",
     "text": [
      "1552840096.1883516\n",
      "period[second] : 1552840096.1883516\n",
      "  0 error = 0.90862\n",
      "  0 w1(mean) = -0.00000, w1(std) = 0.03350\n",
      "  0 w2(mean) = 0.00018, w2(std) = 0.04453\n",
      "  0 b1(mean) = 0.00000, b1(std) = 0.00000\n",
      "  0 b2(mean) = 0.00000, b2(std) = 0.00000\n",
      " 10 error = 0.85825\n",
      " 10 w1(mean) = -0.00473, w1(std) = 0.03743\n",
      " 10 w2(mean) = -0.11769, w2(std) = 0.12777\n",
      " 10 b1(mean) = -0.00000, b1(std) = 0.00000\n",
      " 10 b2(mean) = -0.00000, b2(std) = 0.00000\n",
      " 20 error = 0.90128\n",
      " 20 w1(mean) = -0.00523, w1(std) = 0.03783\n",
      " 20 w2(mean) = -0.13622, w2(std) = 0.14184\n",
      " 20 b1(mean) = -0.00000, b1(std) = 0.00000\n",
      " 20 b2(mean) = -0.00001, b2(std) = 0.00000\n",
      " 30 error = 0.90125\n",
      " 30 w1(mean) = -0.00545, w1(std) = 0.03811\n",
      " 30 w2(mean) = -0.13316, w2(std) = 0.14697\n",
      " 30 b1(mean) = -0.00000, b1(std) = 0.00000\n",
      " 30 b2(mean) = -0.00001, b2(std) = 0.00000\n",
      " 40 error = 0.79102\n",
      " 40 w1(mean) = -0.00544, w1(std) = 0.03834\n",
      " 40 w2(mean) = -0.12797, w2(std) = 0.15056\n",
      " 40 b1(mean) = -0.00000, b1(std) = 0.00000\n",
      " 40 b2(mean) = -0.00000, b2(std) = 0.00000\n",
      " 50 error = 0.71982\n",
      " 50 w1(mean) = -0.00550, w1(std) = 0.03852\n",
      " 50 w2(mean) = -0.12938, w2(std) = 0.16163\n",
      " 50 b1(mean) = -0.00000, b1(std) = 0.00000\n",
      " 50 b2(mean) = -0.00000, b2(std) = 0.00000\n",
      " 60 error = 0.79015\n",
      " 60 w1(mean) = -0.00555, w1(std) = 0.03867\n",
      " 60 w2(mean) = -0.12298, w2(std) = 0.16275\n",
      " 60 b1(mean) = -0.00000, b1(std) = 0.00000\n",
      " 60 b2(mean) = -0.00000, b2(std) = 0.00000\n",
      " 70 error = 0.69727\n",
      " 70 w1(mean) = -0.00568, w1(std) = 0.03882\n",
      " 70 w2(mean) = -0.10677, w2(std) = 0.16050\n",
      " 70 b1(mean) = -0.00000, b1(std) = 0.00000\n",
      " 70 b2(mean) = -0.00000, b2(std) = 0.00000\n",
      " 80 error = 0.71082\n",
      " 80 w1(mean) = -0.00574, w1(std) = 0.03903\n",
      " 80 w2(mean) = -0.11525, w2(std) = 0.16517\n",
      " 80 b1(mean) = -0.00000, b1(std) = 0.00000\n",
      " 80 b2(mean) = -0.00000, b2(std) = 0.00000\n",
      " 90 error = 0.69868\n",
      " 90 w1(mean) = -0.00570, w1(std) = 0.03923\n",
      " 90 w2(mean) = -0.11384, w2(std) = 0.17769\n",
      " 90 b1(mean) = -0.00000, b1(std) = 0.00000\n",
      " 90 b2(mean) = -0.00000, b2(std) = 0.00000\n",
      "100 error = 0.67317\n",
      "100 w1(mean) = -0.00567, w1(std) = 0.03939\n",
      "100 w2(mean) = -0.11937, w2(std) = 0.18610\n",
      "100 b1(mean) = -0.00000, b1(std) = 0.00000\n",
      "100 b2(mean) = -0.00000, b2(std) = 0.00000\n",
      "110 error = 0.54043\n",
      "110 w1(mean) = -0.00566, w1(std) = 0.03955\n",
      "110 w2(mean) = -0.11051, w2(std) = 0.18778\n",
      "110 b1(mean) = -0.00000, b1(std) = 0.00000\n",
      "110 b2(mean) = -0.00000, b2(std) = 0.00000\n",
      "120 error = 0.52468\n",
      "120 w1(mean) = -0.00565, w1(std) = 0.03967\n",
      "120 w2(mean) = -0.10874, w2(std) = 0.19422\n",
      "120 b1(mean) = -0.00000, b1(std) = 0.00000\n",
      "120 b2(mean) = -0.00000, b2(std) = 0.00000\n",
      "130 error = 0.30663\n",
      "130 w1(mean) = -0.00569, w1(std) = 0.03987\n",
      "130 w2(mean) = -0.10596, w2(std) = 0.19814\n",
      "130 b1(mean) = -0.00000, b1(std) = 0.00000\n",
      "130 b2(mean) = -0.00000, b2(std) = 0.00000\n",
      "140 error = 0.38673\n",
      "140 w1(mean) = -0.00572, w1(std) = 0.03995\n",
      "140 w2(mean) = -0.10016, w2(std) = 0.19878\n",
      "140 b1(mean) = -0.00000, b1(std) = 0.00000\n",
      "140 b2(mean) = -0.00000, b2(std) = 0.00000\n",
      "150 error = 0.34145\n",
      "150 w1(mean) = -0.00572, w1(std) = 0.04005\n",
      "150 w2(mean) = -0.10133, w2(std) = 0.20273\n",
      "150 b1(mean) = -0.00000, b1(std) = 0.00000\n",
      "150 b2(mean) = -0.00000, b2(std) = 0.00000\n",
      "160 error = 0.11762\n",
      "160 w1(mean) = -0.00572, w1(std) = 0.04012\n",
      "160 w2(mean) = -0.09573, w2(std) = 0.20549\n",
      "160 b1(mean) = -0.00000, b1(std) = 0.00000\n",
      "160 b2(mean) = -0.00000, b2(std) = 0.00000\n",
      "170 error = 0.19807\n",
      "170 w1(mean) = -0.00573, w1(std) = 0.04016\n",
      "170 w2(mean) = -0.09737, w2(std) = 0.20635\n",
      "170 b1(mean) = -0.00000, b1(std) = 0.00000\n",
      "170 b2(mean) = -0.00000, b2(std) = 0.00000\n",
      "180 error = 0.10135\n",
      "180 w1(mean) = -0.00573, w1(std) = 0.04022\n",
      "180 w2(mean) = -0.09714, w2(std) = 0.20745\n",
      "180 b1(mean) = -0.00000, b1(std) = 0.00000\n",
      "180 b2(mean) = -0.00000, b2(std) = 0.00000\n",
      "190 error = 0.21910\n",
      "190 w1(mean) = -0.00571, w1(std) = 0.04026\n",
      "190 w2(mean) = -0.09860, w2(std) = 0.20790\n",
      "190 b1(mean) = -0.00000, b1(std) = 0.00000\n",
      "190 b2(mean) = -0.00000, b2(std) = 0.00000\n",
      "194 error = 0.09142\n",
      "1552841102.764756\n",
      "period[second] : 1006.5764043331146\n"
     ]
    }
   ],
   "source": [
    "pasttime=0\n",
    "\n",
    "pasttime = nowtime(pasttime)\n",
    "\n",
    "learning_rate = 0.00001\n",
    "\n",
    "w1 = np.random.uniform(low=-0.058, high=+0.058, size=(784, 1000))\n",
    "w2 = np.random.uniform(low=-0.077, high=+0.077, size=(1000, 10))\n",
    "\n",
    "b1 = np.random.uniform(low=0, high=0, size=(1, 1000))\n",
    "b2 = np.random.uniform(low=0, high=0, size=(1, 10))\n",
    "\n",
    "num_epoch = 1000\n",
    "\n",
    "\n",
    "for epoch in range(num_epoch):\n",
    "  # Forward propagation\n",
    "  l1 = X_train.dot(w1) + b1\n",
    "  o1 = sigmoid(l1)\n",
    "  l2 = o1.dot(w2) + b2\n",
    "  o2 = sigmoid(l2)\n",
    "  \n",
    "  predict = np.argmax(o2, axis=1)\n",
    "  error = (predict != y_train).mean()\n",
    "  if error < 0.1:\n",
    "    break\n",
    "    \n",
    "  if epoch % 10 == 0:\n",
    "    print('{0:3} error = {1:.5f}'.format(epoch, error))\n",
    "    print('{0:3} w1(mean) = {1:.5f}, w1(std) = {2:.5f}'.format(epoch, w1.mean(), w1.std()))\n",
    "    print('{0:3} w2(mean) = {1:.5f}, w2(std) = {2:.5f}'.format(epoch, w2.mean(), w2.std()))\n",
    "    print('{0:3} b1(mean) = {1:.5f}, b1(std) = {2:.5f}'.format(epoch, b1.mean(), b1.std()))\n",
    "    print('{0:3} b2(mean) = {1:.5f}, b2(std) = {2:.5f}'.format(epoch, b2.mean(), b2.std()))\n",
    "    \n",
    "  # Backpropagation\n",
    "  d2 = o2 - y_train_hot\n",
    "  d1 = d2.dot(w2.T) * o1 * (1 - o1)\n",
    "  \n",
    "  w2 = w2 -learning_rate * o1.T.dot(d2)\n",
    "  b2 = b2 -learning_rate * d2.mean(axis=0)\n",
    "  w1 = w1 -learning_rate * X_train.T.dot(d1)\n",
    "  b1 = b1 -learning_rate * d1.mean(axis=0)\n",
    " \n",
    "\n",
    "\n",
    "print('{0:3} error = {1:.5f}'.format(epoch, error))\n",
    "  \n",
    "pasttime = nowtime(pasttime)"
   ]
  },
  {
   "cell_type": "code",
   "execution_count": 12,
   "metadata": {},
   "outputs": [],
   "source": [
    "import pandas as pd\n",
    "\n",
    "l1 = X_test.dot(w1)\n",
    "o1 = sigmoid(l1)\n",
    "l2 = o1.dot(w2)\n",
    "o2 = sigmoid(l2)"
   ]
  },
  {
   "cell_type": "code",
   "execution_count": 14,
   "metadata": {},
   "outputs": [
    {
     "name": "stdout",
     "output_type": "stream",
     "text": [
      "Accuracy = 0.90930\n"
     ]
    },
    {
     "ename": "TypeError",
     "evalue": "__init__() got an unexpected keyword argument 'max_rows'",
     "output_type": "error",
     "traceback": [
      "\u001b[1;31m---------------------------------------------------------------------------\u001b[0m",
      "\u001b[1;31mTypeError\u001b[0m                                 Traceback (most recent call last)",
      "\u001b[1;32m~\\Anaconda3\\lib\\site-packages\\IPython\\core\\formatters.py\u001b[0m in \u001b[0;36m__call__\u001b[1;34m(self, obj)\u001b[0m\n\u001b[0;32m    343\u001b[0m             \u001b[0mmethod\u001b[0m \u001b[1;33m=\u001b[0m \u001b[0mget_real_method\u001b[0m\u001b[1;33m(\u001b[0m\u001b[0mobj\u001b[0m\u001b[1;33m,\u001b[0m \u001b[0mself\u001b[0m\u001b[1;33m.\u001b[0m\u001b[0mprint_method\u001b[0m\u001b[1;33m)\u001b[0m\u001b[1;33m\u001b[0m\u001b[1;33m\u001b[0m\u001b[0m\n\u001b[0;32m    344\u001b[0m             \u001b[1;32mif\u001b[0m \u001b[0mmethod\u001b[0m \u001b[1;32mis\u001b[0m \u001b[1;32mnot\u001b[0m \u001b[1;32mNone\u001b[0m\u001b[1;33m:\u001b[0m\u001b[1;33m\u001b[0m\u001b[1;33m\u001b[0m\u001b[0m\n\u001b[1;32m--> 345\u001b[1;33m                 \u001b[1;32mreturn\u001b[0m \u001b[0mmethod\u001b[0m\u001b[1;33m(\u001b[0m\u001b[1;33m)\u001b[0m\u001b[1;33m\u001b[0m\u001b[1;33m\u001b[0m\u001b[0m\n\u001b[0m\u001b[0;32m    346\u001b[0m             \u001b[1;32mreturn\u001b[0m \u001b[1;32mNone\u001b[0m\u001b[1;33m\u001b[0m\u001b[1;33m\u001b[0m\u001b[0m\n\u001b[0;32m    347\u001b[0m         \u001b[1;32melse\u001b[0m\u001b[1;33m:\u001b[0m\u001b[1;33m\u001b[0m\u001b[1;33m\u001b[0m\u001b[0m\n",
      "\u001b[1;32m~\\Anaconda3\\lib\\site-packages\\pandas\\core\\frame.py\u001b[0m in \u001b[0;36m_repr_html_\u001b[1;34m(self)\u001b[0m\n\u001b[0;32m    694\u001b[0m         \u001b[0mSee\u001b[0m \u001b[0mAlso\u001b[0m\u001b[1;33m\u001b[0m\u001b[1;33m\u001b[0m\u001b[0m\n\u001b[0;32m    695\u001b[0m         \u001b[1;33m-\u001b[0m\u001b[1;33m-\u001b[0m\u001b[1;33m-\u001b[0m\u001b[1;33m-\u001b[0m\u001b[1;33m-\u001b[0m\u001b[1;33m-\u001b[0m\u001b[1;33m-\u001b[0m\u001b[1;33m-\u001b[0m\u001b[1;33m\u001b[0m\u001b[1;33m\u001b[0m\u001b[0m\n\u001b[1;32m--> 696\u001b[1;33m         \u001b[0mto_html\u001b[0m \u001b[1;33m:\u001b[0m \u001b[0mConvert\u001b[0m \u001b[0mDataFrame\u001b[0m \u001b[0mto\u001b[0m \u001b[0mHTML\u001b[0m\u001b[1;33m.\u001b[0m\u001b[1;33m\u001b[0m\u001b[1;33m\u001b[0m\u001b[0m\n\u001b[0m\u001b[0;32m    697\u001b[0m \u001b[1;33m\u001b[0m\u001b[0m\n\u001b[0;32m    698\u001b[0m         \u001b[0mExamples\u001b[0m\u001b[1;33m\u001b[0m\u001b[1;33m\u001b[0m\u001b[0m\n",
      "\u001b[1;32m~\\Anaconda3\\lib\\site-packages\\pandas\\core\\frame.py\u001b[0m in \u001b[0;36mto_html\u001b[1;34m(self, buf, columns, col_space, header, index, na_rep, formatters, float_format, sparsify, index_names, justify, bold_rows, classes, escape, max_rows, max_cols, show_dimensions, notebook, decimal, border, table_id)\u001b[0m\n\u001b[0;32m   2035\u001b[0m             \u001b[0mDictionary\u001b[0m \u001b[0mmapping\u001b[0m \u001b[0mcolumns\u001b[0m \u001b[0mcontaining\u001b[0m \u001b[0mdatetime\u001b[0m \u001b[0mtypes\u001b[0m \u001b[0mto\u001b[0m \u001b[0mstata\u001b[0m\u001b[1;33m\u001b[0m\u001b[1;33m\u001b[0m\u001b[0m\n\u001b[0;32m   2036\u001b[0m             \u001b[0minternal\u001b[0m \u001b[0mformat\u001b[0m \u001b[0mto\u001b[0m \u001b[0muse\u001b[0m \u001b[0mwhen\u001b[0m \u001b[0mwriting\u001b[0m \u001b[0mthe\u001b[0m \u001b[0mdates\u001b[0m\u001b[1;33m.\u001b[0m \u001b[0mOptions\u001b[0m \u001b[0mare\u001b[0m \u001b[1;34m'tc'\u001b[0m\u001b[1;33m,\u001b[0m\u001b[1;33m\u001b[0m\u001b[1;33m\u001b[0m\u001b[0m\n\u001b[1;32m-> 2037\u001b[1;33m             \u001b[1;34m'td'\u001b[0m\u001b[1;33m,\u001b[0m \u001b[1;34m'tm'\u001b[0m\u001b[1;33m,\u001b[0m \u001b[1;34m'tw'\u001b[0m\u001b[1;33m,\u001b[0m \u001b[1;34m'th'\u001b[0m\u001b[1;33m,\u001b[0m \u001b[1;34m'tq'\u001b[0m\u001b[1;33m,\u001b[0m \u001b[1;34m'ty'\u001b[0m\u001b[1;33m.\u001b[0m \u001b[0mColumn\u001b[0m \u001b[0mcan\u001b[0m \u001b[0mbe\u001b[0m \u001b[0meither\u001b[0m \u001b[0man\u001b[0m \u001b[0minteger\u001b[0m\u001b[1;33m\u001b[0m\u001b[1;33m\u001b[0m\u001b[0m\n\u001b[0m\u001b[0;32m   2038\u001b[0m             \u001b[1;32mor\u001b[0m \u001b[0ma\u001b[0m \u001b[0mname\u001b[0m\u001b[1;33m.\u001b[0m \u001b[0mDatetime\u001b[0m \u001b[0mcolumns\u001b[0m \u001b[0mthat\u001b[0m \u001b[0mdo\u001b[0m \u001b[1;32mnot\u001b[0m \u001b[0mhave\u001b[0m \u001b[0ma\u001b[0m \u001b[0mconversion\u001b[0m \u001b[0mtype\u001b[0m\u001b[1;33m\u001b[0m\u001b[1;33m\u001b[0m\u001b[0m\n\u001b[0;32m   2039\u001b[0m             \u001b[0mspecified\u001b[0m \u001b[0mwill\u001b[0m \u001b[0mbe\u001b[0m \u001b[0mconverted\u001b[0m \u001b[0mto\u001b[0m \u001b[1;34m'tc'\u001b[0m\u001b[1;33m.\u001b[0m \u001b[0mRaises\u001b[0m \u001b[0mNotImplementedError\u001b[0m \u001b[1;32mif\u001b[0m\u001b[1;33m\u001b[0m\u001b[1;33m\u001b[0m\u001b[0m\n",
      "\u001b[1;32m~\\Anaconda3\\lib\\site-packages\\pandas\\io\\formats\\format.py\u001b[0m in \u001b[0;36mto_html\u001b[1;34m(self, classes, notebook, border)\u001b[0m\n\u001b[0;32m    751\u001b[0m             \u001b[0mneed_leadsp\u001b[0m \u001b[1;33m=\u001b[0m \u001b[0mdict\u001b[0m\u001b[1;33m(\u001b[0m\u001b[0mzip\u001b[0m\u001b[1;33m(\u001b[0m\u001b[0mfmt_columns\u001b[0m\u001b[1;33m,\u001b[0m \u001b[0mmap\u001b[0m\u001b[1;33m(\u001b[0m\u001b[0mis_numeric_dtype\u001b[0m\u001b[1;33m,\u001b[0m \u001b[0mdtypes\u001b[0m\u001b[1;33m)\u001b[0m\u001b[1;33m)\u001b[0m\u001b[1;33m)\u001b[0m\u001b[1;33m\u001b[0m\u001b[1;33m\u001b[0m\u001b[0m\n\u001b[0;32m    752\u001b[0m \u001b[1;33m\u001b[0m\u001b[0m\n\u001b[1;32m--> 753\u001b[1;33m             \u001b[1;32mdef\u001b[0m \u001b[0mspace_format\u001b[0m\u001b[1;33m(\u001b[0m\u001b[0mx\u001b[0m\u001b[1;33m,\u001b[0m \u001b[0my\u001b[0m\u001b[1;33m)\u001b[0m\u001b[1;33m:\u001b[0m\u001b[1;33m\u001b[0m\u001b[1;33m\u001b[0m\u001b[0m\n\u001b[0m\u001b[0;32m    754\u001b[0m                 if (y not in self.formatters and\n\u001b[0;32m    755\u001b[0m                         need_leadsp[x] and not restrict_formatting):\n",
      "\u001b[1;31mTypeError\u001b[0m: __init__() got an unexpected keyword argument 'max_rows'"
     ]
    },
    {
     "data": {
      "text/plain": [
       "    y(actual)  y(predict)\n",
       "0           7           7\n",
       "1           2           2\n",
       "2           1           1\n",
       "3           0           0\n",
       "4           4           4\n",
       "5           1           1\n",
       "6           4           4\n",
       "7           9           9\n",
       "8           5           6\n",
       "9           9           9\n",
       "10          0           0\n",
       "11          6           6\n",
       "12          9           9\n",
       "13          0           0\n",
       "14          1           1"
      ]
     },
     "execution_count": 14,
     "metadata": {},
     "output_type": "execute_result"
    }
   ],
   "source": [
    "predict = np.argmax(o2, axis=1)\n",
    "\n",
    "accuracy = (y_test == predict).mean()\n",
    "print('Accuracy = {0:.5f}'.format(accuracy))\n",
    "\n",
    "pd.DataFrame({'y(actual)' : y_test, 'y(predict)' : predict}).head(15)"
   ]
  },
  {
   "cell_type": "markdown",
   "metadata": {},
   "source": [
    "learning_rate = 0.00001\n",
    "\n",
    "w1 = np.random.uniform(low=-0.058, high=+0.058, size=(784, 1000)) w2 = np.random.uniform(low=-0.077, high=+0.077, size=(1000, 10))\n",
    "\n",
    "b1 = np.random.uniform(low=0, high=0, size=(1, 1000)) b2 = np.random.uniform(low=0, high=0, size=(1, 10))\n",
    "\n",
    "num_epoch = 1000\n",
    "\n",
    "### train 데이터로 모델링시 -> epoch : 194 error = 0.09142\n",
    "### 트레이닝 시간 :16.7m\n",
    "\n",
    "*모델에 test 데이터 적용시 Accuracy = 0.90930\n",
    "\n",
    "# => 애폭이 줄어 절대적 비교가 되진 않지만 시간 단축을 유추해 볼 수 있다.\n",
    "\n",
    "\n",
    "\n",
    "# vs\n",
    "\n",
    "## Colab TPU\n",
    "\n",
    "learning_rate = 0.00001\n",
    "\n",
    "w1 = np.random.uniform(low=-0.058, high=+0.058, size=(784, 1000)) w2 = np.random.uniform(low=-0.077, high=+0.077, size=(1000, 10))\n",
    "\n",
    "b1 = np.random.uniform(low=0, high=0, size=(1, 1000)) b2 = np.random.uniform(low=0, high=0, size=(1, 10))\n",
    "\n",
    "num_epoch = 1000\n",
    "\n",
    "### train 데이터로 모델링시 -> epoch : 256 error = 0.09170\n",
    "### 트레이닝 시간 :44m\n",
    "\n",
    "*모델에 test 데이터 적용시 Accuracy = 0.90940"
   ]
  },
  {
   "cell_type": "code",
   "execution_count": null,
   "metadata": {},
   "outputs": [],
   "source": []
  }
 ],
 "metadata": {
  "kernelspec": {
   "display_name": "Python 3",
   "language": "python",
   "name": "python3"
  },
  "language_info": {
   "codemirror_mode": {
    "name": "ipython",
    "version": 3
   },
   "file_extension": ".py",
   "mimetype": "text/x-python",
   "name": "python",
   "nbconvert_exporter": "python",
   "pygments_lexer": "ipython3",
   "version": "3.7.1"
  }
 },
 "nbformat": 4,
 "nbformat_minor": 2
}
